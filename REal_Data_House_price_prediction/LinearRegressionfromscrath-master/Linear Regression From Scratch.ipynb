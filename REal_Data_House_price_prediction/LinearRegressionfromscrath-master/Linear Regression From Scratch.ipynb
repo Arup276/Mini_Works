{
 "cells": [
  {
   "cell_type": "code",
   "execution_count": 1,
   "metadata": {},
   "outputs": [
    {
     "name": "stdout",
     "output_type": "stream",
     "text": [
      "(237, 4)\n"
     ]
    },
    {
     "data": {
      "text/html": [
       "<div>\n",
       "<style scoped>\n",
       "    .dataframe tbody tr th:only-of-type {\n",
       "        vertical-align: middle;\n",
       "    }\n",
       "\n",
       "    .dataframe tbody tr th {\n",
       "        vertical-align: top;\n",
       "    }\n",
       "\n",
       "    .dataframe thead th {\n",
       "        text-align: right;\n",
       "    }\n",
       "</style>\n",
       "<table border=\"1\" class=\"dataframe\">\n",
       "  <thead>\n",
       "    <tr style=\"text-align: right;\">\n",
       "      <th></th>\n",
       "      <th>Gender</th>\n",
       "      <th>Age Range</th>\n",
       "      <th>Head Size(cm^3)</th>\n",
       "      <th>Brain Weight(grams)</th>\n",
       "    </tr>\n",
       "  </thead>\n",
       "  <tbody>\n",
       "    <tr>\n",
       "      <th>0</th>\n",
       "      <td>1</td>\n",
       "      <td>1</td>\n",
       "      <td>4512</td>\n",
       "      <td>1530</td>\n",
       "    </tr>\n",
       "    <tr>\n",
       "      <th>1</th>\n",
       "      <td>1</td>\n",
       "      <td>1</td>\n",
       "      <td>3738</td>\n",
       "      <td>1297</td>\n",
       "    </tr>\n",
       "    <tr>\n",
       "      <th>2</th>\n",
       "      <td>1</td>\n",
       "      <td>1</td>\n",
       "      <td>4261</td>\n",
       "      <td>1335</td>\n",
       "    </tr>\n",
       "    <tr>\n",
       "      <th>3</th>\n",
       "      <td>1</td>\n",
       "      <td>1</td>\n",
       "      <td>3777</td>\n",
       "      <td>1282</td>\n",
       "    </tr>\n",
       "    <tr>\n",
       "      <th>4</th>\n",
       "      <td>1</td>\n",
       "      <td>1</td>\n",
       "      <td>4177</td>\n",
       "      <td>1590</td>\n",
       "    </tr>\n",
       "  </tbody>\n",
       "</table>\n",
       "</div>"
      ],
      "text/plain": [
       "   Gender  Age Range  Head Size(cm^3)  Brain Weight(grams)\n",
       "0       1          1             4512                 1530\n",
       "1       1          1             3738                 1297\n",
       "2       1          1             4261                 1335\n",
       "3       1          1             3777                 1282\n",
       "4       1          1             4177                 1590"
      ]
     },
     "execution_count": 1,
     "metadata": {},
     "output_type": "execute_result"
    }
   ],
   "source": [
    "#import libraries\n",
    "%matplotlib inline\n",
    "import numpy as np\n",
    "import matplotlib.pyplot as plt\n",
    "import pandas as pd\n",
    "\n",
    "#reading data \n",
    "dataset = pd.read_csv('dataset.csv')\n",
    "print(dataset.shape)\n",
    "dataset.head()"
   ]
  },
  {
   "cell_type": "code",
   "execution_count": 3,
   "metadata": {},
   "outputs": [
    {
     "name": "stdout",
     "output_type": "stream",
     "text": [
      "0.26342933948939945 325.57342104944223\n"
     ]
    }
   ],
   "source": [
    "#initializing our inputs and outputs\n",
    "X = dataset['Head Size(cm^3)'].values\n",
    "Y = dataset['Brain Weight(grams)'].values\n",
    "\n",
    "#mean of our inputs and outputs\n",
    "x_mean = np.mean(X)\n",
    "y_mean = np.mean(Y)\n",
    "\n",
    "#total number of values\n",
    "n = len(X)\n",
    "\n",
    "#using the formula to calculate the b1 and b0\n",
    "numerator = 0\n",
    "denominator = 0\n",
    "for i in range(n):\n",
    "    numerator += (X[i] - x_mean) * (Y[i] - y_mean)\n",
    "    denominator += (X[i] - x_mean) ** 2\n",
    "    \n",
    "b1 = numerator / denominator\n",
    "b0 = y_mean - (b1 * x_mean)\n",
    "\n",
    "#printing the coefficient\n",
    "print(b1, b0)\n"
   ]
  },
  {
   "cell_type": "code",
   "execution_count": 4,
   "metadata": {
    "scrolled": true
   },
   "outputs": [
    {
     "data": {
      "image/png": "[encoded data removed]",
      "text/plain": [
       "<Figure size 432x288 with 1 Axes>"
      ]
     },
     "metadata": {},
     "output_type": "display_data"
    }
   ],
   "source": [
    "#plotting values \n",
    "x_max = np.max(X) + 100\n",
    "x_min = np.min(X) - 100\n",
    "\n",
    "#calculating line values of x and y\n",
    "x = np.linspace(x_min, x_max, 1000)\n",
    "y = b0 + b1 * x\n",
    "\n",
    "#plotting line \n",
    "plt.plot(x, y, color='#00ff00', label='Linear Regression')\n",
    "\n",
    "#plot the data point\n",
    "plt.scatter(X, Y, color='#ff0000', label='Data Point')\n",
    "\n",
    "# x-axis label\n",
    "plt.xlabel('Head Size (cm^3)')\n",
    "\n",
    "#y-axis label\n",
    "plt.ylabel('Brain Weight (grams)')\n",
    "\n",
    "plt.legend()\n",
    "plt.show()"
   ]
  },
  {
   "cell_type": "code",
   "execution_count": 5,
   "metadata": {},
   "outputs": [
    {
     "name": "stdout",
     "output_type": "stream",
     "text": [
      "72.1206213783709\n"
     ]
    }
   ],
   "source": [
    "rmse = 0\n",
    "for i in range(n):\n",
    "    y_pred=  b0 + b1* X[i]\n",
    "    rmse += (Y[i] - y_pred) ** 2\n",
    "    \n",
    "rmse = np.sqrt(rmse/n)\n",
    "\n",
    "print(rmse)"
   ]
  },
  {
   "cell_type": "code",
   "execution_count": 6,
   "metadata": {},
   "outputs": [
    {
     "name": "stdout",
     "output_type": "stream",
     "text": [
      "0.6393117199570003\n"
     ]
    }
   ],
   "source": [
    "sumofsquares = 0\n",
    "sumofresiduals = 0\n",
    "\n",
    "for i in range(n) :\n",
    "    y_pred = b0 + b1 * X[i]\n",
    "    sumofsquares += (Y[i] - y_mean) ** 2\n",
    "    sumofresiduals += (Y[i] - y_pred) **2\n",
    "    \n",
    "score  = 1 - (sumofresiduals/sumofsquares)\n",
    "\n",
    "print(score)"
   ]
  }
 ],
 "metadata": {
  "kernelspec": {
   "display_name": "Python 3",
   "language": "python",
   "name": "python3"
  },
  "language_info": {
   "codemirror_mode": {
    "name": "ipython",
    "version": 3
   },
   "file_extension": ".py",
   "mimetype": "text/x-python",
   "name": "python",
   "nbconvert_exporter": "python",
   "pygments_lexer": "ipython3",
   "version": "3.6.3"
  }
 },
 "nbformat": 4,
 "nbformat_minor": 2
}
