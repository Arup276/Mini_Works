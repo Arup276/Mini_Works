{
 "cells": [
  {
   "cell_type": "code",
   "execution_count": 2,
   "metadata": {},
   "outputs": [],
   "source": [
    "    import matplotlib.pyplot as plt\n",
    "    import numpy as np\n",
    "    import pandas as pd\n",
    "    %matplotlib inline"
   ]
  },
  {
   "cell_type": "code",
   "execution_count": 80,
   "metadata": {},
   "outputs": [],
   "source": [
    "class Linear_rg():\n",
    "    def __init__(self,x,y):\n",
    "        self.x = x\n",
    "        self.y = y\n",
    "    def model(self,x,y):\n",
    "\n",
    "        x_mean = np.mean(self.x)\n",
    "        y_mean = np.mean(self.y)\n",
    "\n",
    "        up_part = 0\n",
    "        bt_part = 0\n",
    "\n",
    "        n = len(x)\n",
    "        for i in range(n):\n",
    "            up_part += (self.x[i] - x_mean)*(y[i] - y_mean)\n",
    "            bt_part += np.square(self.x[i] - x_mean)\n",
    "\n",
    "            m = up_part/bt_part\n",
    "            c = y_mean - (m*x_mean)\n",
    "        return \"m = {} , c = {}\".format(m,c)\n",
    "    def resc(self,x,y):\n",
    "        resc = 0\n",
    "        for i in range(n):\n",
    "            pred = m*self.x[i] + c \n",
    "            resc += np.square(self.y[i] - pred)\n",
    "        resc = np.sqrt(resc/n)\n",
    "        return resc\n",
    "\n",
    "    def score(self,x,y):\n",
    "        sum_of_pred = 0\n",
    "        sum_of_total = 0\n",
    "        for i in range(n):\n",
    "            model_pred = m*self.x[i] + c\n",
    "            sum_of_pred += np.square(model_pred - y_mean)\n",
    "            sum_of_total += np.square(self.y[i] - y_mean)\n",
    "        r_score = (sum_of_pred/sum_of_total)\n",
    "        return r_score\n",
    "    \n",
    "    def lplot(self,x,y):\n",
    "        plt.scatter(self.x,self.y,color = 'red',label = 'Data points')\n",
    "        model = m*self.x + c\n",
    "        plt.plot(self.x,model,color = 'green',label = 'Linear Regression')\n",
    "        plt.xlabel('Head Size(cm^3)')\n",
    "        plt.ylabel('Brain Weight(grams)')\n",
    "        plt.legend()\n",
    "        plt.show()\n",
    "\n"
   ]
  },
  {
   "cell_type": "code",
   "execution_count": null,
   "metadata": {},
   "outputs": [],
   "source": []
  },
  {
   "cell_type": "code",
   "execution_count": 3,
   "metadata": {},
   "outputs": [],
   "source": [
    "data = pd.read_csv('dataset.csv')\n",
    "x = data['Head Size(cm^3)'].values\n",
    "y = data['Brain Weight(grams)'].values"
   ]
  },
  {
   "cell_type": "code",
   "execution_count": 82,
   "metadata": {},
   "outputs": [
    {
     "data": {
      "text/plain": [
       "'m = 0.26342933948939945 , c = 325.57342104944223'"
      ]
     },
     "execution_count": 82,
     "metadata": {},
     "output_type": "execute_result"
    }
   ],
   "source": [
    "cls = Linear_rg(x,y)\n",
    "cls.model(x,y)\n",
    "\n"
   ]
  },
  {
   "cell_type": "code",
   "execution_count": 83,
   "metadata": {},
   "outputs": [
    {
     "data": {
      "text/plain": [
       "0.6393117199570001"
      ]
     },
     "execution_count": 83,
     "metadata": {},
     "output_type": "execute_result"
    }
   ],
   "source": [
    "cls.score(x,y)"
   ]
  },
  {
   "cell_type": "code",
   "execution_count": 8,
   "metadata": {},
   "outputs": [],
   "source": [
    "def model(x,y):\n",
    "\n",
    "    x_mean = np.mean(x)\n",
    "    y_mean = np.mean(y)\n",
    "\n",
    "    up_part = 0\n",
    "    bt_part = 0\n",
    "\n",
    "    n = len(x)\n",
    "    for i in range(n):\n",
    "        up_part += (x[i] - x_mean)*(y[i] - y_mean)\n",
    "        bt_part += np.square(x[i] - x_mean)\n",
    "\n",
    "        m = up_part/bt_part\n",
    "        c = y_mean - (m*x_mean)\n",
    "        \n",
    "\n",
    "    return m,c\n",
    "\n",
    "    "
   ]
  },
  {
   "cell_type": "code",
   "execution_count": 9,
   "metadata": {},
   "outputs": [
    {
     "data": {
      "text/plain": [
       "(0.26342933948939945, 325.57342104944223)"
      ]
     },
     "execution_count": 9,
     "metadata": {},
     "output_type": "execute_result"
    }
   ],
   "source": [
    "model(x,y)"
   ]
  },
  {
   "cell_type": "code",
   "execution_count": 10,
   "metadata": {},
   "outputs": [
    {
     "ename": "NameError",
     "evalue": "name 'm' is not defined",
     "output_type": "error",
     "traceback": [
      "\u001b[1;31m---------------------------------------------------------------------------\u001b[0m",
      "\u001b[1;31mNameError\u001b[0m                                 Traceback (most recent call last)",
      "\u001b[1;32m<ipython-input-10-032991ad54f7>\u001b[0m in \u001b[0;36m<module>\u001b[1;34m\u001b[0m\n\u001b[0;32m      1\u001b[0m \u001b[0mplt\u001b[0m\u001b[1;33m.\u001b[0m\u001b[0mscatter\u001b[0m\u001b[1;33m(\u001b[0m\u001b[0mx\u001b[0m\u001b[1;33m,\u001b[0m\u001b[0my\u001b[0m\u001b[1;33m,\u001b[0m\u001b[0mcolor\u001b[0m \u001b[1;33m=\u001b[0m \u001b[1;34m'red'\u001b[0m\u001b[1;33m,\u001b[0m\u001b[0mlabel\u001b[0m \u001b[1;33m=\u001b[0m \u001b[1;34m'Data points'\u001b[0m\u001b[1;33m)\u001b[0m\u001b[1;33m\u001b[0m\u001b[1;33m\u001b[0m\u001b[0m\n\u001b[1;32m----> 2\u001b[1;33m \u001b[0mmodel\u001b[0m \u001b[1;33m=\u001b[0m \u001b[0mm\u001b[0m\u001b[1;33m*\u001b[0m\u001b[0mx\u001b[0m \u001b[1;33m+\u001b[0m \u001b[0mc\u001b[0m\u001b[1;33m\u001b[0m\u001b[1;33m\u001b[0m\u001b[0m\n\u001b[0m\u001b[0;32m      3\u001b[0m \u001b[0mplt\u001b[0m\u001b[1;33m.\u001b[0m\u001b[0mplot\u001b[0m\u001b[1;33m(\u001b[0m\u001b[0mx\u001b[0m\u001b[1;33m,\u001b[0m\u001b[0mmodel\u001b[0m\u001b[1;33m,\u001b[0m\u001b[0mcolor\u001b[0m \u001b[1;33m=\u001b[0m \u001b[1;34m'green'\u001b[0m\u001b[1;33m,\u001b[0m\u001b[0mlabel\u001b[0m \u001b[1;33m=\u001b[0m \u001b[1;34m'Linear Regression'\u001b[0m\u001b[1;33m)\u001b[0m\u001b[1;33m\u001b[0m\u001b[1;33m\u001b[0m\u001b[0m\n\u001b[0;32m      4\u001b[0m \u001b[0mplt\u001b[0m\u001b[1;33m.\u001b[0m\u001b[0mxlabel\u001b[0m\u001b[1;33m(\u001b[0m\u001b[1;34m'Head Size(cm^3)'\u001b[0m\u001b[1;33m)\u001b[0m\u001b[1;33m\u001b[0m\u001b[1;33m\u001b[0m\u001b[0m\n\u001b[0;32m      5\u001b[0m \u001b[0mplt\u001b[0m\u001b[1;33m.\u001b[0m\u001b[0mylabel\u001b[0m\u001b[1;33m(\u001b[0m\u001b[1;34m'Brain Weight(grams)'\u001b[0m\u001b[1;33m)\u001b[0m\u001b[1;33m\u001b[0m\u001b[1;33m\u001b[0m\u001b[0m\n",
      "\u001b[1;31mNameError\u001b[0m: name 'm' is not defined"
     ]
    },
    {
     "data": {
      "image/png": "[encoded data removed]",
      "text/plain": [
       "<Figure size 432x288 with 1 Axes>"
      ]
     },
     "metadata": {
      "needs_background": "light"
     },
     "output_type": "display_data"
    }
   ],
   "source": [
    "plt.scatter(x,y,color = 'red',label = 'Data points')\n",
    "model = m*x + c\n",
    "plt.plot(x,model,color = 'green',label = 'Linear Regression')\n",
    "plt.xlabel('Head Size(cm^3)')\n",
    "plt.ylabel('Brain Weight(grams)')\n",
    "plt.legend()\n",
    "plt.show()"
   ]
  },
  {
   "cell_type": "code",
   "execution_count": 86,
   "metadata": {},
   "outputs": [],
   "source": [
    "def resc(x,y):\n",
    "    resc = 0\n",
    "    for i in range(n):\n",
    "        pred = m*x[i] + c \n",
    "        resc += np.square(y[i] - pred)\n",
    "    resc = np.sqrt(resc/n)\n",
    "    resc\n"
   ]
  },
  {
   "cell_type": "code",
   "execution_count": 87,
   "metadata": {},
   "outputs": [],
   "source": [
    "def score(x,y):\n",
    "    sum_of_pred = 0\n",
    "    sum_of_total = 0\n",
    "    for i in range(n):\n",
    "        model_pred = m*x[i] + c\n",
    "        sum_of_pred += np.square(model_pred - y_mean)\n",
    "        sum_of_total += np.square(y[i] - y_mean)\n",
    "    r_score = (sum_of_pred/sum_of_total)\n",
    "    r_score"
   ]
  },
  {
   "cell_type": "code",
   "execution_count": 88,
   "metadata": {},
   "outputs": [
    {
     "data": {
      "text/plain": [
       "<function __main__.resc(x, y)>"
      ]
     },
     "execution_count": 88,
     "metadata": {},
     "output_type": "execute_result"
    }
   ],
   "source": [
    "resc(x,y)\n",
    "resc"
   ]
  },
  {
   "cell_type": "code",
   "execution_count": null,
   "metadata": {},
   "outputs": [],
   "source": []
  }
 ],
 "metadata": {
  "kernelspec": {
   "display_name": "Python 3",
   "language": "python",
   "name": "python3"
  },
  "language_info": {
   "codemirror_mode": {
    "name": "ipython",
    "version": 3
   },
   "file_extension": ".py",
   "mimetype": "text/x-python",
   "name": "python",
   "nbconvert_exporter": "python",
   "pygments_lexer": "ipython3",
   "version": "3.7.1"
  }
 },
 "nbformat": 4,
 "nbformat_minor": 2
}
